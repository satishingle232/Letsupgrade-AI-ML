{
 "cells": [
  {
   "cell_type": "markdown",
   "metadata": {},
   "source": [
    "#Q 1 :- Research on whether addition, subtraction, multiplication, division, floor division and modulo operations be performed on complex numbers. Based on your study, implement a Python program to demonstrate these operations.\n"
   ]
  },
  {
   "cell_type": "code",
   "execution_count": null,
   "metadata": {},
   "outputs": [],
   "source": []
  },
  {
   "cell_type": "code",
   "execution_count": 2,
   "metadata": {},
   "outputs": [
    {
     "name": "stdout",
     "output_type": "stream",
     "text": [
      "(19+13j)\n",
      "(1+1j)\n",
      "(48+123j)\n",
      "(1.1282051282051282+0.025641025641025685j)\n"
     ]
    },
    {
     "ename": "TypeError",
     "evalue": "can't take floor of complex number.",
     "output_type": "error",
     "traceback": [
      "\u001b[1;31m---------------------------------------------------------------------------\u001b[0m",
      "\u001b[1;31mTypeError\u001b[0m                                 Traceback (most recent call last)",
      "\u001b[1;32m<ipython-input-2-501660ab09a5>\u001b[0m in \u001b[0;36m<module>\u001b[1;34m\u001b[0m\n\u001b[0;32m      9\u001b[0m \u001b[0mf\u001b[0m \u001b[1;33m=\u001b[0m \u001b[0ma\u001b[0m\u001b[1;33m/\u001b[0m\u001b[0mb\u001b[0m\u001b[1;33m\u001b[0m\u001b[1;33m\u001b[0m\u001b[0m\n\u001b[0;32m     10\u001b[0m \u001b[0mprint\u001b[0m\u001b[1;33m(\u001b[0m\u001b[0mf\u001b[0m\u001b[1;33m)\u001b[0m\u001b[1;33m\u001b[0m\u001b[1;33m\u001b[0m\u001b[0m\n\u001b[1;32m---> 11\u001b[1;33m \u001b[0mj\u001b[0m \u001b[1;33m=\u001b[0m \u001b[0ma\u001b[0m\u001b[1;33m//\u001b[0m\u001b[0mb\u001b[0m\u001b[1;33m\u001b[0m\u001b[1;33m\u001b[0m\u001b[0m\n\u001b[0m\u001b[0;32m     12\u001b[0m \u001b[0mprint\u001b[0m\u001b[1;33m(\u001b[0m\u001b[0mj\u001b[0m\u001b[1;33m)\u001b[0m\u001b[1;33m\u001b[0m\u001b[1;33m\u001b[0m\u001b[0m\n",
      "\u001b[1;31mTypeError\u001b[0m: can't take floor of complex number."
     ]
    }
   ],
   "source": [
    "a = 10+7j\n",
    "b = 9+6j\n",
    "c = a + b\n",
    "print(c)\n",
    "d = a - b\n",
    "print(d)\n",
    "e = a * b\n",
    "print(e)\n",
    "f = a/b\n",
    "print(f)\n",
    "j = a//b\n",
    "print(j)"
   ]
  },
  {
   "cell_type": "markdown",
   "metadata": {},
   "source": [
    "Q2 : Research on range() functions and its parameters. Create a markdown cell and write in your own\n",
    "words (no copy-paste from google please) what you understand about it. Implement a small\n",
    "program of your choice on the same.\n"
   ]
  },
  {
   "cell_type": "markdown",
   "metadata": {},
   "source": [
    "Ans : Function of the range function(range(0,10). the range function is a function that returns a sequence of numbers from the default number 0 and we can able to give the starting place for the sequence and goes on till the ending number is defined to stop the sequence."
   ]
  },
  {
   "cell_type": "code",
   "execution_count": 11,
   "metadata": {},
   "outputs": [
    {
     "name": "stdout",
     "output_type": "stream",
     "text": [
      "[10, 11, 12, 13, 14, 15, 16, 17, 18, 19, 20, 21, 22, 23, 24, 25, 26, 27, 28, 29, 30, 31, 32, 33, 34, 35, 36, 37, 38, 39, 40, 41, 42, 43, 44]\n"
     ]
    }
   ],
   "source": [
    "print (list(range(10, 45)))"
   ]
  },
  {
   "cell_type": "markdown",
   "metadata": {},
   "source": [
    "__Q 3__  :-  Consider two numbers. Perform their subtraction and if the result of subtraction is greater than\n",
    "25, print their multiplication result else print their division result."
   ]
  },
  {
   "cell_type": "code",
   "execution_count": 7,
   "metadata": {},
   "outputs": [
    {
     "name": "stdout",
     "output_type": "stream",
     "text": [
      "enter the number 65\n",
      "enter the number 10\n",
      "55\n",
      "650\n"
     ]
    }
   ],
   "source": [
    "x = int(input(\"enter the number \"))\n",
    "y = int(input(\"enter the number \"))\n",
    "z = x - y \n",
    "print(z)\n",
    "if z > 25:\n",
    "    print(x*y)\n",
    "else:\n",
    "    print(x/y)"
   ]
  },
  {
   "cell_type": "markdown",
   "metadata": {},
   "source": [
    "__Q4 :__ Consider a list of 10 elements of integer values. If the number in the list is divisible by 2, print the\n",
    "result as \"square of that number minus 2\".\n"
   ]
  },
  {
   "cell_type": "code",
   "execution_count": 17,
   "metadata": {},
   "outputs": [
    {
     "name": "stdout",
     "output_type": "stream",
     "text": [
      "(1, 2, 3, 4, 5, 6, 7, 8, 9, 10)\n",
      "square of minus is 2  2\n",
      "square of minus is 2  4\n",
      "square of minus is 2  6\n",
      "square of minus is 2  8\n",
      "square of minus is 2  10\n"
     ]
    }
   ],
   "source": [
    "a = (1,2,3,4,5,6,7,8,9,10)\n",
    "print(a)\n",
    "for n in a:\n",
    "    if n%2==0:\n",
    "        print(\"square of minus is 2 \" , n)"
   ]
  },
  {
   "cell_type": "markdown",
   "metadata": {},
   "source": [
    "__Q 5 :__ Consider a list of 10 elements. Print all the elements in the list which are greater than 7 when that\n",
    "number is divided 2."
   ]
  },
  {
   "cell_type": "code",
   "execution_count": 19,
   "metadata": {},
   "outputs": [
    {
     "name": "stdout",
     "output_type": "stream",
     "text": [
      "the number greater then 7 :  10\n",
      "the number divisible by 2: 10\n",
      "the number greater then 7 :  12\n",
      "the number divisible by 2: 12\n",
      "the number greater then 7 :  15\n",
      "the is not divisible by 2: 15\n",
      "the number greater then 7 :  17\n",
      "the is not divisible by 2: 17\n",
      "the number greater then 7 :  18\n",
      "the number divisible by 2: 18\n",
      "the number greater then 7 :  20\n",
      "the number divisible by 2: 20\n",
      "the number greater then 7 :  22\n",
      "the number divisible by 2: 22\n",
      "the number greater then 7 :  23\n",
      "the is not divisible by 2: 23\n",
      "the number greater then 7 :  25\n",
      "the is not divisible by 2: 25\n",
      "the number greater then 7 :  26\n",
      "the number divisible by 2: 26\n",
      "the number greater then 7 :  27\n",
      "the is not divisible by 2: 27\n",
      "the number greater then 7 :  28\n",
      "the number divisible by 2: 28\n",
      "the number greater then 7 :  30\n",
      "the number divisible by 2: 30\n",
      "the number greater then 7 :  32\n",
      "the number divisible by 2: 32\n",
      "the number greater then 7 :  33\n",
      "the is not divisible by 2: 33\n",
      "the number greater then 7 :  13\n",
      "the is not divisible by 2: 13\n",
      "the number greater then 7 :  21\n",
      "the is not divisible by 2: 21\n"
     ]
    }
   ],
   "source": [
    "r= [10,12,15,17,18,20,22,23,25,26,27,28,30,32,33,13,21]\n",
    "for n in r:\n",
    "    if n>7:\n",
    "        print(\"the number greater then 7 : \", n)\n",
    "        if n%2 ==0:\n",
    "            print(\"the number divisible by 2:\" , n)\n",
    "        else:\n",
    "            print(\"the is not divisible by 2:\" , n)"
   ]
  },
  {
   "cell_type": "markdown",
   "metadata": {},
   "source": [
    "__Q 6 :__ This given by Darshsir during the live session:-\n",
    "    How to add auto fill in the jupyter NB\n",
    "    Hint given during class :- Hinderland\n",
    "    \n",
    "    "
   ]
  },
  {
   "cell_type": "raw",
   "metadata": {},
   "source": [
    "\n",
    "step 1: Open anaconda prompt and run the following commands\n",
    " 1) pip install jupyter_contrib_nbextensions\n",
    " 2) pip install jupyter_nbextensions_configurator\n",
    " 3) jupyter contrib nbextension install --user \n",
    " 4) jupyter nbextensions_configurator enable --user\n",
    " \n",
    " tep 2: Open jupyter notebook\n",
    " - click on nbextensions tab\n",
    " - unckeck disable configuration for nbextensions without explicit compatibility\n",
    " - put a check on Hinterland\n",
    "step 3: Open new python file and check autocomplete feature"
   ]
  },
  {
   "cell_type": "code",
   "execution_count": null,
   "metadata": {},
   "outputs": [],
   "source": []
  }
 ],
 "metadata": {
  "kernelspec": {
   "display_name": "Python 3",
   "language": "python",
   "name": "python3"
  },
  "language_info": {
   "codemirror_mode": {
    "name": "ipython",
    "version": 3
   },
   "file_extension": ".py",
   "mimetype": "text/x-python",
   "name": "python",
   "nbconvert_exporter": "python",
   "pygments_lexer": "ipython3",
   "version": "3.8.3"
  }
 },
 "nbformat": 4,
 "nbformat_minor": 4
}
