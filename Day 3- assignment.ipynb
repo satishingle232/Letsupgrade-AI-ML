{
 "cells": [
  {
   "cell_type": "markdown",
   "metadata": {},
   "source": [
    "Q-1:- Write a program to subtract two complex numbers in Python."
   ]
  },
  {
   "cell_type": "code",
   "execution_count": 14,
   "metadata": {},
   "outputs": [
    {
     "name": "stdout",
     "output_type": "stream",
     "text": [
      "(2+4j)\n"
     ]
    }
   ],
   "source": [
    "x= 3+7j\n",
    "y= 1+3j\n",
    "z= x-y\n",
    "print(z)\n",
    "        \n"
   ]
  },
  {
   "cell_type": "markdown",
   "metadata": {},
   "source": [
    "Q-2 :-Write a program to find the fourth root of a number "
   ]
  },
  {
   "cell_type": "code",
   "execution_count": 2,
   "metadata": {},
   "outputs": [
    {
     "name": "stdout",
     "output_type": "stream",
     "text": [
      "625\n"
     ]
    }
   ],
   "source": [
    "print (5**4)"
   ]
  },
  {
   "cell_type": "markdown",
   "metadata": {},
   "source": [
    "Q3 :-Write a program to swap two numbers in Python with the help of a temporary variable.\n",
    " "
   ]
  },
  {
   "cell_type": "code",
   "execution_count": 20,
   "metadata": {},
   "outputs": [
    {
     "name": "stdout",
     "output_type": "stream",
     "text": [
      "Value after swapping\n",
      "a = 6\n",
      "b = 5\n"
     ]
    }
   ],
   "source": [
    "a=5\n",
    "b=6\n",
    "temp=a    #temp is temporary variable\n",
    "a=b\n",
    "b=temp\n",
    "print(\"Value after swapping\")\n",
    "print('a =',a)\n",
    "print('b =',b)"
   ]
  },
  {
   "cell_type": "markdown",
   "metadata": {},
   "source": [
    "Q4:- Write a program to swap two numbers in Python without using a temporary variable."
   ]
  },
  {
   "cell_type": "code",
   "execution_count": 22,
   "metadata": {},
   "outputs": [
    {
     "name": "stdout",
     "output_type": "stream",
     "text": [
      "Values after swapping:\n",
      "a = 6\n",
      "b = 5\n"
     ]
    }
   ],
   "source": [
    "a=5\n",
    "b=6\n",
    "a,b=b,a\n",
    "print('Values after swapping:')\n",
    "print('a =',a)\n",
    "print('b =',b)"
   ]
  },
  {
   "cell_type": "markdown",
   "metadata": {},
   "source": [
    "Q5 :-Write a program to convert fahrenheit to kelvin and celsius both."
   ]
  },
  {
   "cell_type": "code",
   "execution_count": 29,
   "metadata": {},
   "outputs": [
    {
     "name": "stdout",
     "output_type": "stream",
     "text": [
      "Temp in Kelvin is: 293.70555555555563\n",
      "Temp in Celsius is: 20.555555555555557\n"
     ]
    }
   ],
   "source": [
    "f= 69\n",
    "c= ((f-32)*5)/9\n",
    "k= (459.67+f)*(5/9)\n",
    "print('Temp in Kelvin is:', k)\n",
    "print('Temp in Celsius is:', c)\n"
   ]
  },
  {
   "cell_type": "markdown",
   "metadata": {},
   "source": [
    "Q6 :- Write a program to demonstrate all the available data types in Python. Hint: Use type() function."
   ]
  },
  {
   "cell_type": "code",
   "execution_count": 36,
   "metadata": {},
   "outputs": [
    {
     "name": "stdout",
     "output_type": "stream",
     "text": [
      "<class 'int'>\n",
      "<class 'float'>\n",
      "<class 'complex'>\n",
      "<class 'str'>\n",
      "<class 'bool'>\n",
      "<class 'list'>\n",
      "<class 'dict'>\n",
      "<class 'tuple'>\n"
     ]
    }
   ],
   "source": [
    "b= 1.1\n",
    "c= 3+4j\n",
    "d='hello'\n",
    "e= True\n",
    "f=list((12,2,3))\n",
    "g=dict(x=1,y=2,z=3)\n",
    "h=tuple((12,2,3))\n",
    "print(type(a))\n",
    "print(type(b))\n",
    "print(type(c))\n",
    "print(type(d))\n",
    "print(type(e))\n",
    "print(type(f))\n",
    "print(type(g))\n",
    "print(type(h))"
   ]
  },
  {
   "cell_type": "markdown",
   "metadata": {},
   "source": [
    "Q7 :- Create a Markdown cell in jupyter and list the steps discussed in the session by Dr. Darshan Ingle sir to create Github profile and upload Githubs Assignment link."
   ]
  },
  {
   "cell_type": "code",
   "execution_count": null,
   "metadata": {},
   "outputs": [],
   "source": [
    "Step 1: Open github.com\n",
    "\n",
    "Step 2: Create account using gmail\n",
    "\n",
    "Step 3: Create repository\n",
    "\n",
    "Step 4: Make it public\n",
    "\n",
    "Assignment link:- Add link of of Github"
   ]
  }
 ],
 "metadata": {
  "kernelspec": {
   "display_name": "Python 3",
   "language": "python",
   "name": "python3"
  },
  "language_info": {
   "codemirror_mode": {
    "name": "ipython",
    "version": 3
   },
   "file_extension": ".py",
   "mimetype": "text/x-python",
   "name": "python",
   "nbconvert_exporter": "python",
   "pygments_lexer": "ipython3",
   "version": "3.8.3"
  }
 },
 "nbformat": 4,
 "nbformat_minor": 4
}
